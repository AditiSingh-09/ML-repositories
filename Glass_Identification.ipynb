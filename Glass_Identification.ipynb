{
  "nbformat": 4,
  "nbformat_minor": 0,
  "metadata": {
    "colab": {
      "provenance": []
    },
    "kernelspec": {
      "name": "python3",
      "display_name": "Python 3"
    },
    "language_info": {
      "name": "python"
    }
  },
  "cells": [
    {
      "cell_type": "code",
      "source": [
        "pip install ucimlrepo"
      ],
      "metadata": {
        "colab": {
          "base_uri": "https://localhost:8080/"
        },
        "id": "88OFIrYbpOs9",
        "outputId": "ffa56922-d742-47a8-9245-7fbd51627677"
      },
      "execution_count": null,
      "outputs": [
        {
          "output_type": "stream",
          "name": "stdout",
          "text": [
            "Collecting ucimlrepo\n",
            "  Downloading ucimlrepo-0.0.7-py3-none-any.whl.metadata (5.5 kB)\n",
            "Requirement already satisfied: pandas>=1.0.0 in /usr/local/lib/python3.10/dist-packages (from ucimlrepo) (2.0.3)\n",
            "Requirement already satisfied: certifi>=2020.12.5 in /usr/local/lib/python3.10/dist-packages (from ucimlrepo) (2024.7.4)\n",
            "Requirement already satisfied: python-dateutil>=2.8.2 in /usr/local/lib/python3.10/dist-packages (from pandas>=1.0.0->ucimlrepo) (2.8.2)\n",
            "Requirement already satisfied: pytz>=2020.1 in /usr/local/lib/python3.10/dist-packages (from pandas>=1.0.0->ucimlrepo) (2023.4)\n",
            "Requirement already satisfied: tzdata>=2022.1 in /usr/local/lib/python3.10/dist-packages (from pandas>=1.0.0->ucimlrepo) (2024.1)\n",
            "Requirement already satisfied: numpy>=1.21.0 in /usr/local/lib/python3.10/dist-packages (from pandas>=1.0.0->ucimlrepo) (1.25.2)\n",
            "Requirement already satisfied: six>=1.5 in /usr/local/lib/python3.10/dist-packages (from python-dateutil>=2.8.2->pandas>=1.0.0->ucimlrepo) (1.16.0)\n",
            "Downloading ucimlrepo-0.0.7-py3-none-any.whl (8.0 kB)\n",
            "Installing collected packages: ucimlrepo\n",
            "Successfully installed ucimlrepo-0.0.7\n"
          ]
        }
      ]
    },
    {
      "cell_type": "code",
      "execution_count": null,
      "metadata": {
        "colab": {
          "base_uri": "https://localhost:8080/"
        },
        "id": "uapskRHqpIPU",
        "outputId": "3682a93a-3fa7-47c7-de72-e848e3b4edd0"
      },
      "outputs": [
        {
          "output_type": "stream",
          "name": "stdout",
          "text": [
            "{'uci_id': 42, 'name': 'Glass Identification', 'repository_url': 'https://archive.ics.uci.edu/dataset/42/glass+identification', 'data_url': 'https://archive.ics.uci.edu/static/public/42/data.csv', 'abstract': 'From USA Forensic Science Service; 6 types of glass; defined in terms of their oxide content (i.e. Na, Fe, K, etc)', 'area': 'Physics and Chemistry', 'tasks': ['Classification'], 'characteristics': ['Multivariate'], 'num_instances': 214, 'num_features': 9, 'feature_types': ['Real'], 'demographics': [], 'target_col': ['Type_of_glass'], 'index_col': ['Id_number'], 'has_missing_values': 'no', 'missing_values_symbol': None, 'year_of_dataset_creation': 1987, 'last_updated': 'Thu Aug 10 2023', 'dataset_doi': '10.24432/C5WW2P', 'creators': ['B. German'], 'intro_paper': None, 'additional_info': {'summary': 'Vina conducted a comparison test of her rule-based system, BEAGLE, the nearest-neighbor algorithm, and discriminant analysis.  BEAGLE is a product available through VRS Consulting, Inc.; 4676 Admiralty Way, Suite 206; Marina Del Ray, CA 90292 (213) 827-7890 and FAX: -3189. In determining whether the glass was a type of \"float\" glass or not, the following results were obtained (# incorrect answers):\\r\\n\\r\\nType of Sample  -- Beagle -- NN -- DA\\r\\nWindows that were float processed (87)  -- 10 -- 12 -- 21\\r\\nWindows that were not:            (76) -- 19 -- 16 -- 22\\r\\n\\r\\nThe study of classification of types of glass was motivated by criminological investigation.  At the scene of the crime, the glass left can be used as evidence...if it is correctly identified!', 'purpose': None, 'funded_by': None, 'instances_represent': None, 'recommended_data_splits': None, 'sensitive_data': None, 'preprocessing_description': None, 'variable_info': '1. Id number: 1 to 214\\r\\n2. RI: refractive index\\r\\n3. Na: Sodium (unit measurement: weight percent in corresponding oxide, as are attributes 4-10)\\r\\n4. Mg: Magnesium\\r\\n5. Al: Aluminum\\r\\n6. Si: Silicon\\r\\n7. K: Potassium\\r\\n8. Ca: Calcium\\r\\n9. Ba: Barium\\r\\n10. Fe: Iron\\r\\n11. Type of glass: (class attribute)\\r\\n     -- 1 building_windows_float_processed\\r\\n     -- 2 building_windows_non_float_processed\\r\\n     -- 3 vehicle_windows_float_processed\\r\\n     -- 4 vehicle_windows_non_float_processed (none in this database)\\r\\n     -- 5 containers\\r\\n     -- 6 tableware\\r\\n     -- 7 headlamps', 'citation': None}}\n",
            "             name     role         type demographic       description  \\\n",
            "0       Id_number       ID      Integer        None              None   \n",
            "1              RI  Feature   Continuous        None  refractive index   \n",
            "2              Na  Feature   Continuous        None            Sodium   \n",
            "3              Mg  Feature   Continuous        None         Magnesium   \n",
            "4              Al  Feature   Continuous        None          Aluminum   \n",
            "5              Si  Feature   Continuous        None           Silicon   \n",
            "6               K  Feature   Continuous        None         Potassium   \n",
            "7              Ca  Feature   Continuous        None           Calcium   \n",
            "8              Ba  Feature   Continuous        None            Barium   \n",
            "9              Fe  Feature   Continuous        None              Iron   \n",
            "10  Type_of_glass   Target  Categorical        None              None   \n",
            "\n",
            "                                    units missing_values  \n",
            "0                                    None             no  \n",
            "1                                    None             no  \n",
            "2   weight percent in corresponding oxide             no  \n",
            "3   weight percent in corresponding oxide             no  \n",
            "4   weight percent in corresponding oxide             no  \n",
            "5   weight percent in corresponding oxide             no  \n",
            "6   weight percent in corresponding oxide             no  \n",
            "7   weight percent in corresponding oxide             no  \n",
            "8   weight percent in corresponding oxide             no  \n",
            "9   weight percent in corresponding oxide             no  \n",
            "10                                   None             no  \n"
          ]
        }
      ],
      "source": [
        "from ucimlrepo import fetch_ucirepo\n",
        "\n",
        "# fetch dataset\n",
        "glass_identification = fetch_ucirepo(id=42)\n",
        "\n",
        "# data (as pandas dataframes)\n",
        "X = glass_identification.data.features\n",
        "y = glass_identification.data.targets\n",
        "\n",
        "# metadata\n",
        "print(glass_identification.metadata)\n",
        "\n",
        "# variable information\n",
        "print(glass_identification.variables)\n"
      ]
    },
    {
      "cell_type": "code",
      "source": [
        "X,y"
      ],
      "metadata": {
        "colab": {
          "base_uri": "https://localhost:8080/"
        },
        "id": "VWS_OV2bpLlj",
        "outputId": "87868e69-5a88-489e-8337-3c403930b66f"
      },
      "execution_count": null,
      "outputs": [
        {
          "output_type": "execute_result",
          "data": {
            "text/plain": [
              "(          RI     Na    Mg    Al     Si     K    Ca    Ba   Fe\n",
              " 0    1.52101  13.64  4.49  1.10  71.78  0.06  8.75  0.00  0.0\n",
              " 1    1.51761  13.89  3.60  1.36  72.73  0.48  7.83  0.00  0.0\n",
              " 2    1.51618  13.53  3.55  1.54  72.99  0.39  7.78  0.00  0.0\n",
              " 3    1.51766  13.21  3.69  1.29  72.61  0.57  8.22  0.00  0.0\n",
              " 4    1.51742  13.27  3.62  1.24  73.08  0.55  8.07  0.00  0.0\n",
              " ..       ...    ...   ...   ...    ...   ...   ...   ...  ...\n",
              " 209  1.51623  14.14  0.00  2.88  72.61  0.08  9.18  1.06  0.0\n",
              " 210  1.51685  14.92  0.00  1.99  73.06  0.00  8.40  1.59  0.0\n",
              " 211  1.52065  14.36  0.00  2.02  73.42  0.00  8.44  1.64  0.0\n",
              " 212  1.51651  14.38  0.00  1.94  73.61  0.00  8.48  1.57  0.0\n",
              " 213  1.51711  14.23  0.00  2.08  73.36  0.00  8.62  1.67  0.0\n",
              " \n",
              " [214 rows x 9 columns],\n",
              "      Type_of_glass\n",
              " 0                1\n",
              " 1                1\n",
              " 2                1\n",
              " 3                1\n",
              " 4                1\n",
              " ..             ...\n",
              " 209              7\n",
              " 210              7\n",
              " 211              7\n",
              " 212              7\n",
              " 213              7\n",
              " \n",
              " [214 rows x 1 columns])"
            ]
          },
          "metadata": {},
          "execution_count": 4
        }
      ]
    },
    {
      "cell_type": "code",
      "source": [
        "from ucimlrepo import fetch_ucirepo\n",
        "\n",
        "# fetch dataset\n",
        "covertype = fetch_ucirepo(id=31)\n",
        "\n",
        "# data (as pandas dataframes)\n",
        "X = covertype.data.features\n",
        "y = covertype.data.targets\n",
        "\n",
        "# metadata\n",
        "print(covertype.metadata)\n",
        "\n",
        "# variable information\n",
        "print(covertype.variables)\n"
      ],
      "metadata": {
        "colab": {
          "base_uri": "https://localhost:8080/"
        },
        "collapsed": true,
        "id": "ld_053mIzK27",
        "outputId": "e53aa4ab-4d9c-477f-9734-7c40b9a3014e"
      },
      "execution_count": null,
      "outputs": [
        {
          "output_type": "stream",
          "name": "stdout",
          "text": [
            "{'uci_id': 31, 'name': 'Covertype', 'repository_url': 'https://archive.ics.uci.edu/dataset/31/covertype', 'data_url': 'https://archive.ics.uci.edu/static/public/31/data.csv', 'abstract': 'Classification of pixels into 7 forest cover types based on attributes such as elevation, aspect, slope, hillshade, soil-type, and more.', 'area': 'Biology', 'tasks': ['Classification'], 'characteristics': ['Multivariate'], 'num_instances': 581012, 'num_features': 54, 'feature_types': ['Categorical', 'Integer'], 'demographics': [], 'target_col': ['Cover_Type'], 'index_col': None, 'has_missing_values': 'no', 'missing_values_symbol': None, 'year_of_dataset_creation': 1998, 'last_updated': 'Sat Mar 16 2024', 'dataset_doi': '10.24432/C50K5N', 'creators': ['Jock Blackard'], 'intro_paper': None, 'additional_info': {'summary': 'Predicting forest cover type from cartographic variables only (no remotely sensed data).  The actual forest cover type for a given observation (30 x 30 meter cell) was determined from US Forest Service (USFS) Region 2 Resource Information System (RIS) data.  Independent variables were derived from data originally obtained from US Geological Survey (USGS) and USFS data.  Data is in raw form (not scaled) and contains binary (0 or 1) columns of data for qualitative independent variables (wilderness areas and soil types).\\r\\n\\r\\nThis study area includes four wilderness areas located in the Roosevelt National Forest of northern Colorado.  These areas represent forests with minimal human-caused disturbances, so that existing forest cover types are more a result of ecological processes rather than forest management practices.\\r\\n\\r\\nSome background information for these four wilderness areas: Neota (area 2) probably has the highest mean elevational value of the 4 wilderness areas. Rawah (area 1) and Comanche Peak (area 3) would have a lower mean elevational value, while Cache la Poudre (area 4) would have the lowest mean elevational value. \\r\\n\\r\\nAs for primary major tree species in these areas, Neota would have spruce/fir (type 1), while Rawah and Comanche Peak would probably have lodgepole pine (type 2) as their primary species, followed by spruce/fir and aspen (type 5). Cache la Poudre would tend to have Ponderosa pine (type 3), Douglas-fir (type 6), and cottonwood/willow (type 4).  \\r\\n\\r\\nThe Rawah and Comanche Peak areas would tend to be more typical of the overall dataset than either the Neota or Cache la Poudre, due to their assortment of tree species and range of predictive variable values (elevation, etc.)  Cache la Poudre would probably  be more unique than the others, due to its relatively low  elevation range and species composition. ', 'purpose': None, 'funded_by': None, 'instances_represent': None, 'recommended_data_splits': None, 'sensitive_data': None, 'preprocessing_description': None, 'variable_info': 'Given is the attribute name, attribute type, the measurement unit and a brief description.  The forest cover type is the classification  problem.  The order of this listing corresponds to the order of numerals along the rows of the database.\\r\\n\\r\\nName / Data Type / Measurement / Description\\r\\n\\r\\nElevation / quantitative /meters / Elevation in meters\\r\\nAspect / quantitative / azimuth / Aspect in degrees azimuth\\r\\nSlope / quantitative / degrees / Slope in degrees\\r\\nHorizontal_Distance_To_Hydrology / quantitative / meters / Horz Dist to nearest surface water features\\r\\nVertical_Distance_To_Hydrology / quantitative / meters / Vert Dist to nearest surface water features\\r\\nHorizontal_Distance_To_Roadways / quantitative / meters / Horz Dist to nearest roadway\\r\\nHillshade_9am / quantitative / 0 to 255 index / Hillshade index at 9am, summer solstice\\r\\nHillshade_Noon / quantitative / 0 to 255 index / Hillshade index at noon, summer soltice\\r\\nHillshade_3pm / quantitative / 0 to 255 index / Hillshade index at 3pm, summer solstice\\r\\nHorizontal_Distance_To_Fire_Points / quantitative / meters / Horz Dist to nearest wildfire ignition points\\r\\nWilderness_Area (4 binary columns) / qualitative / 0 (absence) or 1 (presence) / Wilderness area designation\\r\\nSoil_Type (40 binary columns) / qualitative / 0 (absence) or 1 (presence) / Soil Type designation\\r\\nCover_Type (7 types) / integer / 1 to 7 / Forest Cover Type designation', 'citation': None}}\n",
            "                                  name     role     type demographic  \\\n",
            "0                            Elevation  Feature  Integer        None   \n",
            "1                               Aspect  Feature  Integer        None   \n",
            "2                                Slope  Feature  Integer        None   \n",
            "3     Horizontal_Distance_To_Hydrology  Feature  Integer        None   \n",
            "4       Vertical_Distance_To_Hydrology  Feature  Integer        None   \n",
            "5      Horizontal_Distance_To_Roadways  Feature  Integer        None   \n",
            "6                        Hillshade_9am  Feature  Integer        None   \n",
            "7                       Hillshade_Noon  Feature  Integer        None   \n",
            "8                        Hillshade_3pm  Feature  Integer        None   \n",
            "9   Horizontal_Distance_To_Fire_Points  Feature  Integer        None   \n",
            "10                    Wilderness_Area1  Feature  Integer        None   \n",
            "11                          Soil_Type1  Feature  Integer        None   \n",
            "12                          Soil_Type2  Feature  Integer        None   \n",
            "13                          Soil_Type3  Feature  Integer        None   \n",
            "14                          Soil_Type4  Feature  Integer        None   \n",
            "15                          Soil_Type5  Feature  Integer        None   \n",
            "16                          Soil_Type6  Feature  Integer        None   \n",
            "17                          Soil_Type7  Feature  Integer        None   \n",
            "18                          Soil_Type8  Feature  Integer        None   \n",
            "19                          Soil_Type9  Feature  Integer        None   \n",
            "20                         Soil_Type10  Feature  Integer        None   \n",
            "21                         Soil_Type11  Feature  Integer        None   \n",
            "22                         Soil_Type12  Feature  Integer        None   \n",
            "23                         Soil_Type13  Feature  Integer        None   \n",
            "24                         Soil_Type14  Feature  Integer        None   \n",
            "25                         Soil_Type15  Feature  Integer        None   \n",
            "26                         Soil_Type16  Feature  Integer        None   \n",
            "27                         Soil_Type17  Feature  Integer        None   \n",
            "28                         Soil_Type18  Feature  Integer        None   \n",
            "29                         Soil_Type19  Feature  Integer        None   \n",
            "30                         Soil_Type20  Feature  Integer        None   \n",
            "31                         Soil_Type21  Feature  Integer        None   \n",
            "32                         Soil_Type22  Feature  Integer        None   \n",
            "33                         Soil_Type23  Feature  Integer        None   \n",
            "34                         Soil_Type24  Feature  Integer        None   \n",
            "35                         Soil_Type25  Feature  Integer        None   \n",
            "36                         Soil_Type26  Feature  Integer        None   \n",
            "37                         Soil_Type27  Feature  Integer        None   \n",
            "38                         Soil_Type28  Feature  Integer        None   \n",
            "39                         Soil_Type29  Feature  Integer        None   \n",
            "40                         Soil_Type30  Feature  Integer        None   \n",
            "41                         Soil_Type31  Feature  Integer        None   \n",
            "42                         Soil_Type32  Feature  Integer        None   \n",
            "43                         Soil_Type33  Feature  Integer        None   \n",
            "44                         Soil_Type34  Feature  Integer        None   \n",
            "45                         Soil_Type35  Feature  Integer        None   \n",
            "46                         Soil_Type36  Feature  Integer        None   \n",
            "47                         Soil_Type37  Feature  Integer        None   \n",
            "48                         Soil_Type38  Feature  Integer        None   \n",
            "49                         Soil_Type39  Feature  Integer        None   \n",
            "50                         Soil_Type40  Feature  Integer        None   \n",
            "51                          Cover_Type   Target  Integer        None   \n",
            "52                    Wilderness_Area2  Feature  Integer        None   \n",
            "53                    Wilderness_Area3  Feature  Integer        None   \n",
            "54                    Wilderness_Area4  Feature  Integer        None   \n",
            "\n",
            "   description units missing_values  \n",
            "0         None  None             no  \n",
            "1         None  None             no  \n",
            "2         None  None             no  \n",
            "3         None  None             no  \n",
            "4         None  None             no  \n",
            "5         None  None             no  \n",
            "6         None  None             no  \n",
            "7         None  None             no  \n",
            "8         None  None             no  \n",
            "9         None  None             no  \n",
            "10        None  None             no  \n",
            "11        None  None             no  \n",
            "12        None  None             no  \n",
            "13        None  None             no  \n",
            "14        None  None             no  \n",
            "15        None  None             no  \n",
            "16        None  None             no  \n",
            "17        None  None             no  \n",
            "18        None  None             no  \n",
            "19        None  None             no  \n",
            "20        None  None             no  \n",
            "21        None  None             no  \n",
            "22        None  None             no  \n",
            "23        None  None             no  \n",
            "24        None  None             no  \n",
            "25        None  None             no  \n",
            "26        None  None             no  \n",
            "27        None  None             no  \n",
            "28        None  None             no  \n",
            "29        None  None             no  \n",
            "30        None  None             no  \n",
            "31        None  None             no  \n",
            "32        None  None             no  \n",
            "33        None  None             no  \n",
            "34        None  None             no  \n",
            "35        None  None             no  \n",
            "36        None  None             no  \n",
            "37        None  None             no  \n",
            "38        None  None             no  \n",
            "39        None  None             no  \n",
            "40        None  None             no  \n",
            "41        None  None             no  \n",
            "42        None  None             no  \n",
            "43        None  None             no  \n",
            "44        None  None             no  \n",
            "45        None  None             no  \n",
            "46        None  None             no  \n",
            "47        None  None             no  \n",
            "48        None  None             no  \n",
            "49        None  None             no  \n",
            "50        None  None             no  \n",
            "51        None  None             no  \n",
            "52        None  None             no  \n",
            "53        None  None             no  \n",
            "54        None  None             no  \n"
          ]
        }
      ]
    },
    {
      "cell_type": "code",
      "source": [
        "import pandas as pd"
      ],
      "metadata": {
        "id": "jzDcW_MczsPa"
      },
      "execution_count": null,
      "outputs": []
    },
    {
      "cell_type": "code",
      "source": [
        "X=pd.DataFrame(X)\n",
        "y=pd.DataFrame(y)"
      ],
      "metadata": {
        "id": "13EGwrL9zMV_"
      },
      "execution_count": null,
      "outputs": []
    },
    {
      "cell_type": "code",
      "source": [
        "X,y"
      ],
      "metadata": {
        "colab": {
          "base_uri": "https://localhost:8080/"
        },
        "id": "kkSc6gpqzvJY",
        "outputId": "a9d82363-50a5-4ece-9256-a866a4e85e01"
      },
      "execution_count": null,
      "outputs": [
        {
          "output_type": "execute_result",
          "data": {
            "text/plain": [
              "(        Elevation  Aspect  Slope  Horizontal_Distance_To_Hydrology  \\\n",
              " 0            2596      51      3                               258   \n",
              " 1            2590      56      2                               212   \n",
              " 2            2804     139      9                               268   \n",
              " 3            2785     155     18                               242   \n",
              " 4            2595      45      2                               153   \n",
              " ...           ...     ...    ...                               ...   \n",
              " 581007       2396     153     20                                85   \n",
              " 581008       2391     152     19                                67   \n",
              " 581009       2386     159     17                                60   \n",
              " 581010       2384     170     15                                60   \n",
              " 581011       2383     165     13                                60   \n",
              " \n",
              "         Vertical_Distance_To_Hydrology  Horizontal_Distance_To_Roadways  \\\n",
              " 0                                    0                              510   \n",
              " 1                                   -6                              390   \n",
              " 2                                   65                             3180   \n",
              " 3                                  118                             3090   \n",
              " 4                                   -1                              391   \n",
              " ...                                ...                              ...   \n",
              " 581007                              17                              108   \n",
              " 581008                              12                               95   \n",
              " 581009                               7                               90   \n",
              " 581010                               5                               90   \n",
              " 581011                               4                               67   \n",
              " \n",
              "         Hillshade_9am  Hillshade_Noon  Hillshade_3pm  \\\n",
              " 0                 221             232            148   \n",
              " 1                 220             235            151   \n",
              " 2                 234             238            135   \n",
              " 3                 238             238            122   \n",
              " 4                 220             234            150   \n",
              " ...               ...             ...            ...   \n",
              " 581007            240             237            118   \n",
              " 581008            240             237            119   \n",
              " 581009            236             241            130   \n",
              " 581010            230             245            143   \n",
              " 581011            231             244            141   \n",
              " \n",
              "         Horizontal_Distance_To_Fire_Points  ...  Soil_Type34  Soil_Type35  \\\n",
              " 0                                     6279  ...            0            0   \n",
              " 1                                     6225  ...            0            0   \n",
              " 2                                     6121  ...            0            0   \n",
              " 3                                     6211  ...            0            0   \n",
              " 4                                     6172  ...            0            0   \n",
              " ...                                    ...  ...          ...          ...   \n",
              " 581007                                 837  ...            0            0   \n",
              " 581008                                 845  ...            0            0   \n",
              " 581009                                 854  ...            0            0   \n",
              " 581010                                 864  ...            0            0   \n",
              " 581011                                 875  ...            0            0   \n",
              " \n",
              "         Soil_Type36  Soil_Type37  Soil_Type38  Soil_Type39  Soil_Type40  \\\n",
              " 0                 0            0            0            0            0   \n",
              " 1                 0            0            0            0            0   \n",
              " 2                 0            0            0            0            0   \n",
              " 3                 0            0            0            0            0   \n",
              " 4                 0            0            0            0            0   \n",
              " ...             ...          ...          ...          ...          ...   \n",
              " 581007            0            0            0            0            0   \n",
              " 581008            0            0            0            0            0   \n",
              " 581009            0            0            0            0            0   \n",
              " 581010            0            0            0            0            0   \n",
              " 581011            0            0            0            0            0   \n",
              " \n",
              "         Wilderness_Area2  Wilderness_Area3  Wilderness_Area4  \n",
              " 0                      0                 0                 0  \n",
              " 1                      0                 0                 0  \n",
              " 2                      0                 0                 0  \n",
              " 3                      0                 0                 0  \n",
              " 4                      0                 0                 0  \n",
              " ...                  ...               ...               ...  \n",
              " 581007                 0                 1                 0  \n",
              " 581008                 0                 1                 0  \n",
              " 581009                 0                 1                 0  \n",
              " 581010                 0                 1                 0  \n",
              " 581011                 0                 1                 0  \n",
              " \n",
              " [581012 rows x 54 columns],\n",
              "         Cover_Type\n",
              " 0                5\n",
              " 1                5\n",
              " 2                2\n",
              " 3                2\n",
              " 4                5\n",
              " ...            ...\n",
              " 581007           3\n",
              " 581008           3\n",
              " 581009           3\n",
              " 581010           3\n",
              " 581011           3\n",
              " \n",
              " [581012 rows x 1 columns])"
            ]
          },
          "metadata": {},
          "execution_count": 7
        }
      ]
    },
    {
      "cell_type": "code",
      "source": [
        "from ucimlrepo import fetch_ucirepo\n",
        "\n",
        "# fetch dataset\n",
        "computer_hardware = fetch_ucirepo(id=29)\n",
        "\n",
        "# data (as pandas dataframes)\n",
        "X = computer_hardware.data.features\n",
        "y = computer_hardware.data.targets\n",
        "\n",
        "# metadata\n",
        "print(computer_hardware.metadata)\n",
        "\n",
        "# variable information\n",
        "print(computer_hardware.variables)\n"
      ],
      "metadata": {
        "id": "Ra2nnz4Wz8IL",
        "outputId": "571632cd-e30c-4235-c600-28459803e8a5",
        "colab": {
          "base_uri": "https://localhost:8080/"
        }
      },
      "execution_count": null,
      "outputs": [
        {
          "output_type": "stream",
          "name": "stdout",
          "text": [
            "{'uci_id': 29, 'name': 'Computer Hardware', 'repository_url': 'https://archive.ics.uci.edu/dataset/29/computer+hardware', 'data_url': 'https://archive.ics.uci.edu/static/public/29/data.csv', 'abstract': 'Relative CPU Performance Data, described in terms of its cycle time, memory size, etc.', 'area': 'Computer Science', 'tasks': ['Regression'], 'characteristics': ['Multivariate'], 'num_instances': 209, 'num_features': 10, 'feature_types': ['Integer'], 'demographics': [], 'target_col': None, 'index_col': None, 'has_missing_values': 'no', 'missing_values_symbol': None, 'year_of_dataset_creation': 1987, 'last_updated': 'Fri Oct 27 2023', 'dataset_doi': '10.24432/C5830D', 'creators': ['Jacob Feldmesser'], 'intro_paper': None, 'additional_info': {'summary': 'The estimated relative performance values were estimated by the authors using a linear regression method.  See their article (pp 308-313) for more details on how the relative performance values were set.', 'purpose': None, 'funded_by': None, 'instances_represent': None, 'recommended_data_splits': None, 'sensitive_data': None, 'preprocessing_description': None, 'variable_info': '   1. vendor name: 30 \\r\\n      (adviser, amdahl,apollo, basf, bti, burroughs, c.r.d, cambex, cdc, dec, \\r\\n       dg, formation, four-phase, gould, honeywell, hp, ibm, ipl, magnuson, \\r\\n       microdata, nas, ncr, nixdorf, perkin-elmer, prime, siemens, sperry, \\r\\n       sratus, wang)\\r\\n   2. Model Name: many unique symbols\\r\\n   3. MYCT: machine cycle time in nanoseconds (integer)\\r\\n   4. MMIN: minimum main memory in kilobytes (integer)\\r\\n   5. MMAX: maximum main memory in kilobytes (integer)\\r\\n   6. CACH: cache memory in kilobytes (integer)\\r\\n   7. CHMIN: minimum channels in units (integer)\\r\\n   8. CHMAX: maximum channels in units (integer)\\r\\n   9. PRP: published relative performance (integer)\\r\\n  10. ERP: estimated relative performance from the original article (integer)', 'citation': None}}\n",
            "         name     role         type demographic  \\\n",
            "0  VendorName  Feature  Categorical        None   \n",
            "1   ModelName  Feature  Categorical        None   \n",
            "2        MYCT  Feature      Integer        None   \n",
            "3        MMIN  Feature      Integer        None   \n",
            "4        MMAX  Feature      Integer        None   \n",
            "5        CACH  Feature      Integer        None   \n",
            "6       CHMIN  Feature      Integer        None   \n",
            "7       CHMAX  Feature      Integer        None   \n",
            "8         PRP  Feature      Integer        None   \n",
            "9         ERP  Feature      Integer        None   \n",
            "\n",
            "                                         description        units  \\\n",
            "0  (adviser, amdahl,apollo, basf, bti, burroughs,...         None   \n",
            "1                                many unique symbols         None   \n",
            "2                                 machine cycle time  nanoseconds   \n",
            "3                                minimum main memory    kilobytes   \n",
            "4                                maximum main memory    kilobytes   \n",
            "5                                       cache memory    kilobytes   \n",
            "6                                   minimum channels        units   \n",
            "7                                   maximum channels        units   \n",
            "8                     published relative performance         None   \n",
            "9  estimated relative performance from the origin...         None   \n",
            "\n",
            "  missing_values  \n",
            "0             no  \n",
            "1             no  \n",
            "2             no  \n",
            "3             no  \n",
            "4             no  \n",
            "5             no  \n",
            "6             no  \n",
            "7             no  \n",
            "8             no  \n",
            "9             no  \n"
          ]
        }
      ]
    },
    {
      "cell_type": "code",
      "source": [
        "X,y"
      ],
      "metadata": {
        "id": "mIYwHL4zz9If",
        "outputId": "8ec4218c-8553-4511-8e00-548c808c5bf4",
        "colab": {
          "base_uri": "https://localhost:8080/"
        }
      },
      "execution_count": null,
      "outputs": [
        {
          "output_type": "execute_result",
          "data": {
            "text/plain": [
              "(    VendorName      ModelName  MYCT  MMIN   MMAX  CACH  CHMIN  CHMAX  PRP  ERP\n",
              " 0      adviser          32/60   125   256   6000   256     16    128  198  199\n",
              " 1       amdahl         470v/7    29  8000  32000    32      8     32  269  253\n",
              " 2       amdahl        470v/7a    29  8000  32000    32      8     32  220  253\n",
              " 3       amdahl        470v/7b    29  8000  32000    32      8     32  172  253\n",
              " 4       amdahl        470v/7c    29  8000  16000    32      8     16  132  132\n",
              " ..         ...            ...   ...   ...    ...   ...    ...    ...  ...  ...\n",
              " 204     sperry           80/8   124  1000   8000     0      1      8   42   37\n",
              " 205     sperry  90/80-model-3    98  1000   8000    32      2      8   46   50\n",
              " 206     sratus             32   125  2000   8000     0      2     14   52   41\n",
              " 207       wang         vs-100   480   512   8000    32      0      0   67   47\n",
              " 208       wang          vs-90   480  1000   4000     0      0      0   45   25\n",
              " \n",
              " [209 rows x 10 columns],\n",
              " None)"
            ]
          },
          "metadata": {},
          "execution_count": 9
        }
      ]
    }
  ]
}