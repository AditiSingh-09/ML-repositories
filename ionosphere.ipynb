{
  "nbformat": 4,
  "nbformat_minor": 0,
  "metadata": {
    "colab": {
      "provenance": []
    },
    "kernelspec": {
      "name": "python3",
      "display_name": "Python 3"
    },
    "language_info": {
      "name": "python"
    }
  },
  "cells": [
    {
      "cell_type": "code",
      "source": [
        "import pandas as pd\n",
        "import numpy as np\n",
        "import matplotlib.pyplot as plt\n",
        "from sklearn.model_selection import train_test_split, cross_val_score\n",
        "from sklearn.ensemble import RandomForestClassifier\n",
        "from sklearn.svm import SVC\n",
        "from sklearn.tree import DecisionTreeClassifier\n",
        "from tensorflow.keras.models import Sequential\n",
        "from tensorflow.keras.layers import Dense\n",
        "import xgboost as xgb\n",
        "from sklearn.metrics import accuracy_score, confusion_matrix"
      ],
      "metadata": {
        "id": "pe23wpPrNOn1"
      },
      "execution_count": null,
      "outputs": []
    },
    {
      "cell_type": "code",
      "execution_count": null,
      "metadata": {
        "colab": {
          "base_uri": "https://localhost:8080/"
        },
        "id": "AHp2F05JjRlw",
        "outputId": "31e9f7fe-0138-469b-aea6-b1af5a5cde35"
      },
      "outputs": [
        {
          "output_type": "stream",
          "name": "stdout",
          "text": [
            "Requirement already satisfied: ucimlrepo in /usr/local/lib/python3.10/dist-packages (0.0.7)\n",
            "Requirement already satisfied: pandas>=1.0.0 in /usr/local/lib/python3.10/dist-packages (from ucimlrepo) (2.0.3)\n",
            "Requirement already satisfied: certifi>=2020.12.5 in /usr/local/lib/python3.10/dist-packages (from ucimlrepo) (2024.7.4)\n",
            "Requirement already satisfied: python-dateutil>=2.8.2 in /usr/local/lib/python3.10/dist-packages (from pandas>=1.0.0->ucimlrepo) (2.8.2)\n",
            "Requirement already satisfied: pytz>=2020.1 in /usr/local/lib/python3.10/dist-packages (from pandas>=1.0.0->ucimlrepo) (2024.1)\n",
            "Requirement already satisfied: tzdata>=2022.1 in /usr/local/lib/python3.10/dist-packages (from pandas>=1.0.0->ucimlrepo) (2024.1)\n",
            "Requirement already satisfied: numpy>=1.21.0 in /usr/local/lib/python3.10/dist-packages (from pandas>=1.0.0->ucimlrepo) (1.25.2)\n",
            "Requirement already satisfied: six>=1.5 in /usr/local/lib/python3.10/dist-packages (from python-dateutil>=2.8.2->pandas>=1.0.0->ucimlrepo) (1.16.0)\n"
          ]
        }
      ],
      "source": [
        "pip install ucimlrepo"
      ]
    },
    {
      "cell_type": "code",
      "source": [
        "from ucimlrepo import fetch_ucirepo\n",
        "\n",
        "# fetch dataset\n",
        "ionosphere = fetch_ucirepo(id=52)\n",
        "\n",
        "# data (as pandas dataframes)\n",
        "X = ionosphere.data.features\n",
        "y = ionosphere.data.targets\n",
        "\n",
        "# metadata\n",
        "print(ionosphere.metadata)\n",
        "\n",
        "# variable information\n",
        "print(ionosphere.variables)\n"
      ],
      "metadata": {
        "colab": {
          "base_uri": "https://localhost:8080/"
        },
        "id": "-abSV65gjXvF",
        "outputId": "6fc11762-2d09-4326-d1b8-1a97182c4f99",
        "collapsed": true
      },
      "execution_count": null,
      "outputs": [
        {
          "output_type": "stream",
          "name": "stdout",
          "text": [
            "{'uci_id': 52, 'name': 'Ionosphere', 'repository_url': 'https://archive.ics.uci.edu/dataset/52/ionosphere', 'data_url': 'https://archive.ics.uci.edu/static/public/52/data.csv', 'abstract': 'Classification of radar returns from the ionosphere', 'area': 'Physics and Chemistry', 'tasks': ['Classification'], 'characteristics': ['Multivariate'], 'num_instances': 351, 'num_features': 34, 'feature_types': ['Integer', 'Real'], 'demographics': [], 'target_col': ['Class'], 'index_col': None, 'has_missing_values': 'no', 'missing_values_symbol': None, 'year_of_dataset_creation': 1989, 'last_updated': 'Sun Jan 01 1989', 'dataset_doi': '10.24432/C5W01B', 'creators': ['V. Sigillito', 'S. Wing', 'L. Hutton', 'K. Baker'], 'intro_paper': None, 'additional_info': {'summary': 'This radar data was collected by a system in Goose Bay, Labrador.  This system consists of a phased array of 16 high-frequency antennas with a total transmitted power on the order of 6.4 kilowatts.  See the paper for more details.  The targets were free electrons in the ionosphere. \"Good\" radar returns are those showing evidence of some type of structure in the ionosphere.  \"Bad\" returns are those that do not; their signals pass through the ionosphere.  \\r\\n\\r\\nReceived signals were processed using an autocorrelation function whose arguments are the time of a pulse and the pulse number.  There were 17 pulse numbers for the Goose Bay system.  Instances in this databse are described by 2 attributes per pulse number, corresponding to the complex values returned by the function resulting from the complex electromagnetic signal.', 'purpose': None, 'funded_by': None, 'instances_represent': None, 'recommended_data_splits': None, 'sensitive_data': None, 'preprocessing_description': None, 'variable_info': '-- All 34 are continuous\\r\\n-- The 35th attribute is either \"good\" or \"bad\" according to the definition summarized above.  This is a binary classification task.\\r\\n', 'citation': None}}\n",
            "           name     role         type demographic description units  \\\n",
            "0    Attribute1  Feature   Continuous        None        None  None   \n",
            "1    Attribute2  Feature   Continuous        None        None  None   \n",
            "2    Attribute3  Feature   Continuous        None        None  None   \n",
            "3    Attribute4  Feature   Continuous        None        None  None   \n",
            "4    Attribute5  Feature   Continuous        None        None  None   \n",
            "5    Attribute6  Feature   Continuous        None        None  None   \n",
            "6    Attribute7  Feature   Continuous        None        None  None   \n",
            "7    Attribute8  Feature   Continuous        None        None  None   \n",
            "8    Attribute9  Feature   Continuous        None        None  None   \n",
            "9   Attribute10  Feature   Continuous        None        None  None   \n",
            "10  Attribute11  Feature   Continuous        None        None  None   \n",
            "11  Attribute12  Feature   Continuous        None        None  None   \n",
            "12  Attribute13  Feature   Continuous        None        None  None   \n",
            "13  Attribute14  Feature   Continuous        None        None  None   \n",
            "14  Attribute15  Feature   Continuous        None        None  None   \n",
            "15  Attribute16  Feature   Continuous        None        None  None   \n",
            "16  Attribute17  Feature   Continuous        None        None  None   \n",
            "17  Attribute18  Feature   Continuous        None        None  None   \n",
            "18  Attribute19  Feature   Continuous        None        None  None   \n",
            "19  Attribute20  Feature   Continuous        None        None  None   \n",
            "20  Attribute21  Feature   Continuous        None        None  None   \n",
            "21  Attribute22  Feature   Continuous        None        None  None   \n",
            "22  Attribute23  Feature   Continuous        None        None  None   \n",
            "23  Attribute24  Feature   Continuous        None        None  None   \n",
            "24  Attribute25  Feature   Continuous        None        None  None   \n",
            "25  Attribute26  Feature   Continuous        None        None  None   \n",
            "26  Attribute27  Feature   Continuous        None        None  None   \n",
            "27  Attribute28  Feature   Continuous        None        None  None   \n",
            "28  Attribute29  Feature   Continuous        None        None  None   \n",
            "29  Attribute30  Feature   Continuous        None        None  None   \n",
            "30  Attribute31  Feature   Continuous        None        None  None   \n",
            "31  Attribute32  Feature   Continuous        None        None  None   \n",
            "32  Attribute33  Feature   Continuous        None        None  None   \n",
            "33  Attribute34  Feature   Continuous        None        None  None   \n",
            "34        Class   Target  Categorical        None        None  None   \n",
            "\n",
            "   missing_values  \n",
            "0              no  \n",
            "1              no  \n",
            "2              no  \n",
            "3              no  \n",
            "4              no  \n",
            "5              no  \n",
            "6              no  \n",
            "7              no  \n",
            "8              no  \n",
            "9              no  \n",
            "10             no  \n",
            "11             no  \n",
            "12             no  \n",
            "13             no  \n",
            "14             no  \n",
            "15             no  \n",
            "16             no  \n",
            "17             no  \n",
            "18             no  \n",
            "19             no  \n",
            "20             no  \n",
            "21             no  \n",
            "22             no  \n",
            "23             no  \n",
            "24             no  \n",
            "25             no  \n",
            "26             no  \n",
            "27             no  \n",
            "28             no  \n",
            "29             no  \n",
            "30             no  \n",
            "31             no  \n",
            "32             no  \n",
            "33             no  \n",
            "34             no  \n"
          ]
        }
      ]
    },
    {
      "cell_type": "code",
      "source": [
        "X,y"
      ],
      "metadata": {
        "colab": {
          "base_uri": "https://localhost:8080/"
        },
        "id": "lWXajDK-jYd_",
        "outputId": "6f2c1cc0-5d45-4ca8-80ec-b06a708a443f",
        "collapsed": true
      },
      "execution_count": null,
      "outputs": [
        {
          "output_type": "execute_result",
          "data": {
            "text/plain": [
              "(     Attribute1  Attribute2  Attribute3  Attribute4  Attribute5  Attribute6  \\\n",
              " 0             1           0     0.99539    -0.05889     0.85243     0.02306   \n",
              " 1             1           0     1.00000    -0.18829     0.93035    -0.36156   \n",
              " 2             1           0     1.00000    -0.03365     1.00000     0.00485   \n",
              " 3             1           0     1.00000    -0.45161     1.00000     1.00000   \n",
              " 4             1           0     1.00000    -0.02401     0.94140     0.06531   \n",
              " ..          ...         ...         ...         ...         ...         ...   \n",
              " 346           1           0     0.83508     0.08298     0.73739    -0.14706   \n",
              " 347           1           0     0.95113     0.00419     0.95183    -0.02723   \n",
              " 348           1           0     0.94701    -0.00034     0.93207    -0.03227   \n",
              " 349           1           0     0.90608    -0.01657     0.98122    -0.01989   \n",
              " 350           1           0     0.84710     0.13533     0.73638    -0.06151   \n",
              " \n",
              "      Attribute7  Attribute8  Attribute9  Attribute10  ...  Attribute25  \\\n",
              " 0       0.83398    -0.37708     1.00000      0.03760  ...      0.56811   \n",
              " 1      -0.10868    -0.93597     1.00000     -0.04549  ...     -0.20332   \n",
              " 2       1.00000    -0.12062     0.88965      0.01198  ...      0.57528   \n",
              " 3       0.71216    -1.00000     0.00000      0.00000  ...      1.00000   \n",
              " 4       0.92106    -0.23255     0.77152     -0.16399  ...      0.03286   \n",
              " ..          ...         ...         ...          ...  ...          ...   \n",
              " 346     0.84349    -0.05567     0.90441     -0.04622  ...      0.95378   \n",
              " 347     0.93438    -0.01920     0.94590      0.01606  ...      0.94520   \n",
              " 348     0.95177    -0.03431     0.95584      0.02446  ...      0.93988   \n",
              " 349     0.95691    -0.03646     0.85746      0.00110  ...      0.91050   \n",
              " 350     0.87873     0.08260     0.88928     -0.09139  ...      0.86467   \n",
              " \n",
              "      Attribute26  Attribute27  Attribute28  Attribute29  Attribute30  \\\n",
              " 0       -0.51171      0.41078     -0.46168      0.21266     -0.34090   \n",
              " 1       -0.26569     -0.20468     -0.18401     -0.19040     -0.11593   \n",
              " 2       -0.40220      0.58984     -0.22145      0.43100     -0.17365   \n",
              " 3        0.90695      0.51613      1.00000      1.00000     -0.20099   \n",
              " 4       -0.65158      0.13290     -0.53206      0.02431     -0.62197   \n",
              " ..           ...          ...          ...          ...          ...   \n",
              " 346     -0.04202      0.83479      0.00123      1.00000      0.12815   \n",
              " 347      0.01361      0.93522      0.04925      0.93159      0.08168   \n",
              " 348      0.03193      0.92489      0.02542      0.92120      0.02242   \n",
              " 349     -0.02099      0.89147     -0.07760      0.82983     -0.17238   \n",
              " 350     -0.15114      0.81147     -0.04822      0.78207     -0.00703   \n",
              " \n",
              "      Attribute31  Attribute32  Attribute33  Attribute34  \n",
              " 0        0.42267     -0.54487      0.18641     -0.45300  \n",
              " 1       -0.16626     -0.06288     -0.13738     -0.02447  \n",
              " 2        0.60436     -0.24180      0.56045     -0.38238  \n",
              " 3        0.25682      1.00000     -0.32382      1.00000  \n",
              " 4       -0.05707     -0.59573     -0.04608     -0.65697  \n",
              " ..           ...          ...          ...          ...  \n",
              " 346      0.86660     -0.10714      0.90546     -0.04307  \n",
              " 347      0.94066     -0.00035      0.91483      0.04712  \n",
              " 348      0.92459      0.00442      0.92697     -0.00577  \n",
              " 349      0.96022     -0.03757      0.87403     -0.16243  \n",
              " 350      0.75747     -0.06678      0.85764     -0.06151  \n",
              " \n",
              " [351 rows x 34 columns],\n",
              "     Class\n",
              " 0       g\n",
              " 1       b\n",
              " 2       g\n",
              " 3       b\n",
              " 4       g\n",
              " ..    ...\n",
              " 346     g\n",
              " 347     g\n",
              " 348     g\n",
              " 349     g\n",
              " 350     g\n",
              " \n",
              " [351 rows x 1 columns])"
            ]
          },
          "metadata": {},
          "execution_count": 168
        }
      ]
    },
    {
      "cell_type": "code",
      "source": [
        "mapping={'g':0,'b':1}\n",
        "y.loc[:, 'Class'] = y['Class'].map(mapping)\n",
        "y"
      ],
      "metadata": {
        "colab": {
          "base_uri": "https://localhost:8080/",
          "height": 423
        },
        "id": "C0yQ5D7cNf22",
        "outputId": "f29a653f-4066-4627-ff9c-c7c925ca7ffb"
      },
      "execution_count": null,
      "outputs": [
        {
          "output_type": "execute_result",
          "data": {
            "text/plain": [
              "    Class\n",
              "0       0\n",
              "1       1\n",
              "2       0\n",
              "3       1\n",
              "4       0\n",
              "..    ...\n",
              "346     0\n",
              "347     0\n",
              "348     0\n",
              "349     0\n",
              "350     0\n",
              "\n",
              "[351 rows x 1 columns]"
            ],
            "text/html": [
              "\n",
              "  <div id=\"df-7477c907-0bc7-409f-bcfd-3fd97b15a245\" class=\"colab-df-container\">\n",
              "    <div>\n",
              "<style scoped>\n",
              "    .dataframe tbody tr th:only-of-type {\n",
              "        vertical-align: middle;\n",
              "    }\n",
              "\n",
              "    .dataframe tbody tr th {\n",
              "        vertical-align: top;\n",
              "    }\n",
              "\n",
              "    .dataframe thead th {\n",
              "        text-align: right;\n",
              "    }\n",
              "</style>\n",
              "<table border=\"1\" class=\"dataframe\">\n",
              "  <thead>\n",
              "    <tr style=\"text-align: right;\">\n",
              "      <th></th>\n",
              "      <th>Class</th>\n",
              "    </tr>\n",
              "  </thead>\n",
              "  <tbody>\n",
              "    <tr>\n",
              "      <th>0</th>\n",
              "      <td>0</td>\n",
              "    </tr>\n",
              "    <tr>\n",
              "      <th>1</th>\n",
              "      <td>1</td>\n",
              "    </tr>\n",
              "    <tr>\n",
              "      <th>2</th>\n",
              "      <td>0</td>\n",
              "    </tr>\n",
              "    <tr>\n",
              "      <th>3</th>\n",
              "      <td>1</td>\n",
              "    </tr>\n",
              "    <tr>\n",
              "      <th>4</th>\n",
              "      <td>0</td>\n",
              "    </tr>\n",
              "    <tr>\n",
              "      <th>...</th>\n",
              "      <td>...</td>\n",
              "    </tr>\n",
              "    <tr>\n",
              "      <th>346</th>\n",
              "      <td>0</td>\n",
              "    </tr>\n",
              "    <tr>\n",
              "      <th>347</th>\n",
              "      <td>0</td>\n",
              "    </tr>\n",
              "    <tr>\n",
              "      <th>348</th>\n",
              "      <td>0</td>\n",
              "    </tr>\n",
              "    <tr>\n",
              "      <th>349</th>\n",
              "      <td>0</td>\n",
              "    </tr>\n",
              "    <tr>\n",
              "      <th>350</th>\n",
              "      <td>0</td>\n",
              "    </tr>\n",
              "  </tbody>\n",
              "</table>\n",
              "<p>351 rows × 1 columns</p>\n",
              "</div>\n",
              "    <div class=\"colab-df-buttons\">\n",
              "\n",
              "  <div class=\"colab-df-container\">\n",
              "    <button class=\"colab-df-convert\" onclick=\"convertToInteractive('df-7477c907-0bc7-409f-bcfd-3fd97b15a245')\"\n",
              "            title=\"Convert this dataframe to an interactive table.\"\n",
              "            style=\"display:none;\">\n",
              "\n",
              "  <svg xmlns=\"http://www.w3.org/2000/svg\" height=\"24px\" viewBox=\"0 -960 960 960\">\n",
              "    <path d=\"M120-120v-720h720v720H120Zm60-500h600v-160H180v160Zm220 220h160v-160H400v160Zm0 220h160v-160H400v160ZM180-400h160v-160H180v160Zm440 0h160v-160H620v160ZM180-180h160v-160H180v160Zm440 0h160v-160H620v160Z\"/>\n",
              "  </svg>\n",
              "    </button>\n",
              "\n",
              "  <style>\n",
              "    .colab-df-container {\n",
              "      display:flex;\n",
              "      gap: 12px;\n",
              "    }\n",
              "\n",
              "    .colab-df-convert {\n",
              "      background-color: #E8F0FE;\n",
              "      border: none;\n",
              "      border-radius: 50%;\n",
              "      cursor: pointer;\n",
              "      display: none;\n",
              "      fill: #1967D2;\n",
              "      height: 32px;\n",
              "      padding: 0 0 0 0;\n",
              "      width: 32px;\n",
              "    }\n",
              "\n",
              "    .colab-df-convert:hover {\n",
              "      background-color: #E2EBFA;\n",
              "      box-shadow: 0px 1px 2px rgba(60, 64, 67, 0.3), 0px 1px 3px 1px rgba(60, 64, 67, 0.15);\n",
              "      fill: #174EA6;\n",
              "    }\n",
              "\n",
              "    .colab-df-buttons div {\n",
              "      margin-bottom: 4px;\n",
              "    }\n",
              "\n",
              "    [theme=dark] .colab-df-convert {\n",
              "      background-color: #3B4455;\n",
              "      fill: #D2E3FC;\n",
              "    }\n",
              "\n",
              "    [theme=dark] .colab-df-convert:hover {\n",
              "      background-color: #434B5C;\n",
              "      box-shadow: 0px 1px 3px 1px rgba(0, 0, 0, 0.15);\n",
              "      filter: drop-shadow(0px 1px 2px rgba(0, 0, 0, 0.3));\n",
              "      fill: #FFFFFF;\n",
              "    }\n",
              "  </style>\n",
              "\n",
              "    <script>\n",
              "      const buttonEl =\n",
              "        document.querySelector('#df-7477c907-0bc7-409f-bcfd-3fd97b15a245 button.colab-df-convert');\n",
              "      buttonEl.style.display =\n",
              "        google.colab.kernel.accessAllowed ? 'block' : 'none';\n",
              "\n",
              "      async function convertToInteractive(key) {\n",
              "        const element = document.querySelector('#df-7477c907-0bc7-409f-bcfd-3fd97b15a245');\n",
              "        const dataTable =\n",
              "          await google.colab.kernel.invokeFunction('convertToInteractive',\n",
              "                                                    [key], {});\n",
              "        if (!dataTable) return;\n",
              "\n",
              "        const docLinkHtml = 'Like what you see? Visit the ' +\n",
              "          '<a target=\"_blank\" href=https://colab.research.google.com/notebooks/data_table.ipynb>data table notebook</a>'\n",
              "          + ' to learn more about interactive tables.';\n",
              "        element.innerHTML = '';\n",
              "        dataTable['output_type'] = 'display_data';\n",
              "        await google.colab.output.renderOutput(dataTable, element);\n",
              "        const docLink = document.createElement('div');\n",
              "        docLink.innerHTML = docLinkHtml;\n",
              "        element.appendChild(docLink);\n",
              "      }\n",
              "    </script>\n",
              "  </div>\n",
              "\n",
              "\n",
              "<div id=\"df-637eae18-8419-49cf-aac3-477794b1b53b\">\n",
              "  <button class=\"colab-df-quickchart\" onclick=\"quickchart('df-637eae18-8419-49cf-aac3-477794b1b53b')\"\n",
              "            title=\"Suggest charts\"\n",
              "            style=\"display:none;\">\n",
              "\n",
              "<svg xmlns=\"http://www.w3.org/2000/svg\" height=\"24px\"viewBox=\"0 0 24 24\"\n",
              "     width=\"24px\">\n",
              "    <g>\n",
              "        <path d=\"M19 3H5c-1.1 0-2 .9-2 2v14c0 1.1.9 2 2 2h14c1.1 0 2-.9 2-2V5c0-1.1-.9-2-2-2zM9 17H7v-7h2v7zm4 0h-2V7h2v10zm4 0h-2v-4h2v4z\"/>\n",
              "    </g>\n",
              "</svg>\n",
              "  </button>\n",
              "\n",
              "<style>\n",
              "  .colab-df-quickchart {\n",
              "      --bg-color: #E8F0FE;\n",
              "      --fill-color: #1967D2;\n",
              "      --hover-bg-color: #E2EBFA;\n",
              "      --hover-fill-color: #174EA6;\n",
              "      --disabled-fill-color: #AAA;\n",
              "      --disabled-bg-color: #DDD;\n",
              "  }\n",
              "\n",
              "  [theme=dark] .colab-df-quickchart {\n",
              "      --bg-color: #3B4455;\n",
              "      --fill-color: #D2E3FC;\n",
              "      --hover-bg-color: #434B5C;\n",
              "      --hover-fill-color: #FFFFFF;\n",
              "      --disabled-bg-color: #3B4455;\n",
              "      --disabled-fill-color: #666;\n",
              "  }\n",
              "\n",
              "  .colab-df-quickchart {\n",
              "    background-color: var(--bg-color);\n",
              "    border: none;\n",
              "    border-radius: 50%;\n",
              "    cursor: pointer;\n",
              "    display: none;\n",
              "    fill: var(--fill-color);\n",
              "    height: 32px;\n",
              "    padding: 0;\n",
              "    width: 32px;\n",
              "  }\n",
              "\n",
              "  .colab-df-quickchart:hover {\n",
              "    background-color: var(--hover-bg-color);\n",
              "    box-shadow: 0 1px 2px rgba(60, 64, 67, 0.3), 0 1px 3px 1px rgba(60, 64, 67, 0.15);\n",
              "    fill: var(--button-hover-fill-color);\n",
              "  }\n",
              "\n",
              "  .colab-df-quickchart-complete:disabled,\n",
              "  .colab-df-quickchart-complete:disabled:hover {\n",
              "    background-color: var(--disabled-bg-color);\n",
              "    fill: var(--disabled-fill-color);\n",
              "    box-shadow: none;\n",
              "  }\n",
              "\n",
              "  .colab-df-spinner {\n",
              "    border: 2px solid var(--fill-color);\n",
              "    border-color: transparent;\n",
              "    border-bottom-color: var(--fill-color);\n",
              "    animation:\n",
              "      spin 1s steps(1) infinite;\n",
              "  }\n",
              "\n",
              "  @keyframes spin {\n",
              "    0% {\n",
              "      border-color: transparent;\n",
              "      border-bottom-color: var(--fill-color);\n",
              "      border-left-color: var(--fill-color);\n",
              "    }\n",
              "    20% {\n",
              "      border-color: transparent;\n",
              "      border-left-color: var(--fill-color);\n",
              "      border-top-color: var(--fill-color);\n",
              "    }\n",
              "    30% {\n",
              "      border-color: transparent;\n",
              "      border-left-color: var(--fill-color);\n",
              "      border-top-color: var(--fill-color);\n",
              "      border-right-color: var(--fill-color);\n",
              "    }\n",
              "    40% {\n",
              "      border-color: transparent;\n",
              "      border-right-color: var(--fill-color);\n",
              "      border-top-color: var(--fill-color);\n",
              "    }\n",
              "    60% {\n",
              "      border-color: transparent;\n",
              "      border-right-color: var(--fill-color);\n",
              "    }\n",
              "    80% {\n",
              "      border-color: transparent;\n",
              "      border-right-color: var(--fill-color);\n",
              "      border-bottom-color: var(--fill-color);\n",
              "    }\n",
              "    90% {\n",
              "      border-color: transparent;\n",
              "      border-bottom-color: var(--fill-color);\n",
              "    }\n",
              "  }\n",
              "</style>\n",
              "\n",
              "  <script>\n",
              "    async function quickchart(key) {\n",
              "      const quickchartButtonEl =\n",
              "        document.querySelector('#' + key + ' button');\n",
              "      quickchartButtonEl.disabled = true;  // To prevent multiple clicks.\n",
              "      quickchartButtonEl.classList.add('colab-df-spinner');\n",
              "      try {\n",
              "        const charts = await google.colab.kernel.invokeFunction(\n",
              "            'suggestCharts', [key], {});\n",
              "      } catch (error) {\n",
              "        console.error('Error during call to suggestCharts:', error);\n",
              "      }\n",
              "      quickchartButtonEl.classList.remove('colab-df-spinner');\n",
              "      quickchartButtonEl.classList.add('colab-df-quickchart-complete');\n",
              "    }\n",
              "    (() => {\n",
              "      let quickchartButtonEl =\n",
              "        document.querySelector('#df-637eae18-8419-49cf-aac3-477794b1b53b button');\n",
              "      quickchartButtonEl.style.display =\n",
              "        google.colab.kernel.accessAllowed ? 'block' : 'none';\n",
              "    })();\n",
              "  </script>\n",
              "</div>\n",
              "\n",
              "  <div id=\"id_40fa5148-6084-40f7-9e84-0f85b08d7408\">\n",
              "    <style>\n",
              "      .colab-df-generate {\n",
              "        background-color: #E8F0FE;\n",
              "        border: none;\n",
              "        border-radius: 50%;\n",
              "        cursor: pointer;\n",
              "        display: none;\n",
              "        fill: #1967D2;\n",
              "        height: 32px;\n",
              "        padding: 0 0 0 0;\n",
              "        width: 32px;\n",
              "      }\n",
              "\n",
              "      .colab-df-generate:hover {\n",
              "        background-color: #E2EBFA;\n",
              "        box-shadow: 0px 1px 2px rgba(60, 64, 67, 0.3), 0px 1px 3px 1px rgba(60, 64, 67, 0.15);\n",
              "        fill: #174EA6;\n",
              "      }\n",
              "\n",
              "      [theme=dark] .colab-df-generate {\n",
              "        background-color: #3B4455;\n",
              "        fill: #D2E3FC;\n",
              "      }\n",
              "\n",
              "      [theme=dark] .colab-df-generate:hover {\n",
              "        background-color: #434B5C;\n",
              "        box-shadow: 0px 1px 3px 1px rgba(0, 0, 0, 0.15);\n",
              "        filter: drop-shadow(0px 1px 2px rgba(0, 0, 0, 0.3));\n",
              "        fill: #FFFFFF;\n",
              "      }\n",
              "    </style>\n",
              "    <button class=\"colab-df-generate\" onclick=\"generateWithVariable('y')\"\n",
              "            title=\"Generate code using this dataframe.\"\n",
              "            style=\"display:none;\">\n",
              "\n",
              "  <svg xmlns=\"http://www.w3.org/2000/svg\" height=\"24px\"viewBox=\"0 0 24 24\"\n",
              "       width=\"24px\">\n",
              "    <path d=\"M7,19H8.4L18.45,9,17,7.55,7,17.6ZM5,21V16.75L18.45,3.32a2,2,0,0,1,2.83,0l1.4,1.43a1.91,1.91,0,0,1,.58,1.4,1.91,1.91,0,0,1-.58,1.4L9.25,21ZM18.45,9,17,7.55Zm-12,3A5.31,5.31,0,0,0,4.9,8.1,5.31,5.31,0,0,0,1,6.5,5.31,5.31,0,0,0,4.9,4.9,5.31,5.31,0,0,0,6.5,1,5.31,5.31,0,0,0,8.1,4.9,5.31,5.31,0,0,0,12,6.5,5.46,5.46,0,0,0,6.5,12Z\"/>\n",
              "  </svg>\n",
              "    </button>\n",
              "    <script>\n",
              "      (() => {\n",
              "      const buttonEl =\n",
              "        document.querySelector('#id_40fa5148-6084-40f7-9e84-0f85b08d7408 button.colab-df-generate');\n",
              "      buttonEl.style.display =\n",
              "        google.colab.kernel.accessAllowed ? 'block' : 'none';\n",
              "\n",
              "      buttonEl.onclick = () => {\n",
              "        google.colab.notebook.generateWithVariable('y');\n",
              "      }\n",
              "      })();\n",
              "    </script>\n",
              "  </div>\n",
              "\n",
              "    </div>\n",
              "  </div>\n"
            ],
            "application/vnd.google.colaboratory.intrinsic+json": {
              "type": "dataframe",
              "variable_name": "y",
              "summary": "{\n  \"name\": \"y\",\n  \"rows\": 351,\n  \"fields\": [\n    {\n      \"column\": \"Class\",\n      \"properties\": {\n        \"dtype\": \"date\",\n        \"min\": 0,\n        \"max\": 1,\n        \"num_unique_values\": 2,\n        \"samples\": [\n          1,\n          0\n        ],\n        \"semantic_type\": \"\",\n        \"description\": \"\"\n      }\n    }\n  ]\n}"
            }
          },
          "metadata": {},
          "execution_count": 169
        }
      ]
    },
    {
      "cell_type": "code",
      "source": [
        "y=y['Class'].to_numpy()\n",
        "y.astype(int)\n",
        "y=pd.Series(y)"
      ],
      "metadata": {
        "id": "iBxKsHFeON4D"
      },
      "execution_count": null,
      "outputs": []
    },
    {
      "cell_type": "markdown",
      "source": [
        "Good: Indicate the presence of some structure in the ionosphere, which is detectable through the radar signals.\n",
        "\n",
        "Bad: Indicate the signals passed through the ionosphere without any observable structure."
      ],
      "metadata": {
        "id": "iNDtL-b9ObQZ"
      }
    },
    {
      "cell_type": "code",
      "source": [
        "plt.figure(figsize=(5,5))\n",
        "\n",
        "y.value_counts().plot(kind = \"bar\", title = \"Class Distribution Before Sampling| 0:Good | 1 : Bad'\")"
      ],
      "metadata": {
        "colab": {
          "base_uri": "https://localhost:8080/",
          "height": 479
        },
        "id": "epaid0UXOO_5",
        "outputId": "a634226d-2e51-4964-b5de-af7c6d89d5d8"
      },
      "execution_count": null,
      "outputs": [
        {
          "output_type": "execute_result",
          "data": {
            "text/plain": [
              "<Axes: title={'center': \"Class Distribution Before Sampling| 0:Good | 1 : Bad'\"}>"
            ]
          },
          "metadata": {},
          "execution_count": 171
        },
        {
          "output_type": "display_data",
          "data": {
            "text/plain": [
              "<Figure size 500x500 with 1 Axes>"
            ],
            "image/png": "[encoded data removed]"
          },
          "metadata": {}
        }
      ]
    },
    {
      "cell_type": "code",
      "source": [
        "y=y.astype(int)"
      ],
      "metadata": {
        "id": "OmPhSwqFOlSl"
      },
      "execution_count": null,
      "outputs": []
    },
    {
      "cell_type": "markdown",
      "source": [
        "Appling SMOTE to balance the data"
      ],
      "metadata": {
        "id": "LlS4e2BZOnQ1"
      }
    },
    {
      "cell_type": "code",
      "source": [
        "# Create balance in the data\n",
        "from imblearn.over_sampling import SMOTE\n",
        "import pandas as pd\n",
        "\n",
        "# Apply SMOTE\n",
        "smote = SMOTE()\n",
        "X_resampled, y_resampled = smote.fit_resample(X, y)\n"
      ],
      "metadata": {
        "id": "FTGt1Xm5Ooiu"
      },
      "execution_count": null,
      "outputs": []
    },
    {
      "cell_type": "code",
      "source": [
        "plt.figure(figsize=(5,5))\n",
        "\n",
        "y_resampled.value_counts().plot(kind = \"bar\", title = \"Class Distribution After Sampling| 0:Good | 1 : Bad'\")"
      ],
      "metadata": {
        "colab": {
          "base_uri": "https://localhost:8080/",
          "height": 479
        },
        "id": "p1xcMIZ-OrTw",
        "outputId": "ada65520-2113-4106-d4af-367d3445d381"
      },
      "execution_count": null,
      "outputs": [
        {
          "output_type": "execute_result",
          "data": {
            "text/plain": [
              "<Axes: title={'center': \"Class Distribution After Sampling| 0:Good | 1 : Bad'\"}>"
            ]
          },
          "metadata": {},
          "execution_count": 174
        },
        {
          "output_type": "display_data",
          "data": {
            "text/plain": [
              "<Figure size 500x500 with 1 Axes>"
            ],
            "image/png": "[encoded data removed]"
          },
          "metadata": {}
        }
      ]
    },
    {
      "cell_type": "code",
      "source": [
        "X_train,X_test,y_train,y_test=train_test_split(X_resampled,y_resampled,test_size=0.2,random_state=42)"
      ],
      "metadata": {
        "id": "omlUaYPXO8mJ"
      },
      "execution_count": null,
      "outputs": []
    },
    {
      "cell_type": "code",
      "source": [
        "cv_score_list=[]"
      ],
      "metadata": {
        "id": "p8ytpd6FP8hS"
      },
      "execution_count": null,
      "outputs": []
    },
    {
      "cell_type": "markdown",
      "source": [
        "Random Forest"
      ],
      "metadata": {
        "id": "_bY0vEAjO-vs"
      }
    },
    {
      "cell_type": "code",
      "source": [
        "rf=RandomForestClassifier(n_estimators=100,random_state=42)\n",
        "rf.fit(X_train,y_train)\n",
        "y_pred=rf.predict(X_test)"
      ],
      "metadata": {
        "id": "4wO3p4dLOvm7"
      },
      "execution_count": null,
      "outputs": []
    },
    {
      "cell_type": "code",
      "source": [
        "cv_scores = cross_val_score(rf, X_train, y_train, cv=5)\n",
        "cv_score_list.append(cv_scores)\n",
        "\n",
        "accuracy=accuracy_score(y_test,y_pred)\n",
        "print(accuracy)\n",
        "\n",
        "print(confusion_matrix(y_test,y_pred))\n",
        "\n",
        "print(cv_scores)"
      ],
      "metadata": {
        "colab": {
          "base_uri": "https://localhost:8080/"
        },
        "id": "GFjyBn0AP78p",
        "outputId": "8905691b-0b83-4929-9d18-50eebeddf40b"
      },
      "execution_count": null,
      "outputs": [
        {
          "output_type": "stream",
          "name": "stdout",
          "text": [
            "0.9444444444444444\n",
            "[[42  0]\n",
            " [ 5 43]]\n",
            "[0.94444444 0.91666667 0.875      0.94444444 0.91666667]\n"
          ]
        }
      ]
    },
    {
      "cell_type": "markdown",
      "source": [
        "XG Boost"
      ],
      "metadata": {
        "id": "MkWxXkEEPAAH"
      }
    },
    {
      "cell_type": "code",
      "source": [
        "xg=xgb.XGBClassifier()\n",
        "xg.fit(X_train,y_train)\n",
        "y_pred=xg.predict(X_test)"
      ],
      "metadata": {
        "id": "R9umD9O-QI0o"
      },
      "execution_count": null,
      "outputs": []
    },
    {
      "cell_type": "code",
      "source": [
        "accuracy=accuracy_score(y_test,y_pred)\n",
        "\n",
        "print(accuracy)\n",
        "print(confusion_matrix(y_test,y_pred))\n",
        "\n",
        "cv_scores = cross_val_score(xg, X_train, y_train, cv=5)\n",
        "cv_score_list.append(cv_scores)\n",
        "print(cv_scores)"
      ],
      "metadata": {
        "colab": {
          "base_uri": "https://localhost:8080/"
        },
        "id": "_FYr-3yiQnuk",
        "outputId": "aaeb9971-2d39-453d-dee4-b19beb6a0bd7"
      },
      "execution_count": null,
      "outputs": [
        {
          "output_type": "stream",
          "name": "stdout",
          "text": [
            "0.9111111111111111\n",
            "[[42  0]\n",
            " [ 8 40]]\n",
            "[0.94444444 0.91666667 0.86111111 0.93055556 0.93055556]\n"
          ]
        }
      ]
    },
    {
      "cell_type": "markdown",
      "source": [
        "Decision Tree"
      ],
      "metadata": {
        "id": "OyVsuV1uPBoB"
      }
    },
    {
      "cell_type": "code",
      "source": [
        "dt=DecisionTreeClassifier()\n",
        "dt.fit(X_train,y_train)\n",
        "y_pred=dt.predict(X_test)"
      ],
      "metadata": {
        "id": "Qz0F0ruoQs7n"
      },
      "execution_count": null,
      "outputs": []
    },
    {
      "cell_type": "code",
      "source": [
        "accuracy=accuracy_score(y_test,y_pred)\n",
        "\n",
        "print(accuracy)\n",
        "print(confusion_matrix(y_test,y_pred))\n",
        "\n",
        "cv_scores = cross_val_score(dt, X_train, y_train, cv=5)\n",
        "cv_score_list.append(cv_scores)\n",
        "print(cv_scores)"
      ],
      "metadata": {
        "colab": {
          "base_uri": "https://localhost:8080/"
        },
        "id": "UW090ih2QwEy",
        "outputId": "857077de-8e2b-47c9-f7bb-fbf9d9097c93"
      },
      "execution_count": null,
      "outputs": [
        {
          "output_type": "stream",
          "name": "stdout",
          "text": [
            "0.8888888888888888\n",
            "[[41  1]\n",
            " [ 9 39]]\n",
            "[0.83333333 0.91666667 0.80555556 0.93055556 0.875     ]\n"
          ]
        }
      ]
    },
    {
      "cell_type": "markdown",
      "source": [
        "SVM"
      ],
      "metadata": {
        "id": "Jm30Z6dPPDAL"
      }
    },
    {
      "cell_type": "code",
      "source": [
        "svm=SVC()\n",
        "svm.fit(X_train,y_train)\n",
        "y_pred=svm.predict(X_test)"
      ],
      "metadata": {
        "id": "Uh0YaN8DQ8v6"
      },
      "execution_count": null,
      "outputs": []
    },
    {
      "cell_type": "code",
      "source": [
        "accuracy=accuracy_score(y_test,y_pred)\n",
        "print(accuracy)\n",
        "print(confusion_matrix(y_test,y_pred))\n",
        "\n",
        "cv_scores = cross_val_score(svm, X_train, y_train, cv=5)\n",
        "cv_score_list.append(cv_scores)\n",
        "print(cv_scores)"
      ],
      "metadata": {
        "colab": {
          "base_uri": "https://localhost:8080/"
        },
        "id": "rhtV11HHRAeC",
        "outputId": "a56d8f7e-d59d-431d-b171-88e38d2f5bdf"
      },
      "execution_count": null,
      "outputs": [
        {
          "output_type": "stream",
          "name": "stdout",
          "text": [
            "0.9333333333333333\n",
            "[[42  0]\n",
            " [ 6 42]]\n",
            "[0.95833333 0.93055556 0.88888889 0.95833333 0.93055556]\n"
          ]
        }
      ]
    },
    {
      "cell_type": "markdown",
      "source": [
        "Neural Network"
      ],
      "metadata": {
        "id": "Q-H3jVoSPJ27"
      }
    },
    {
      "cell_type": "code",
      "source": [
        "model=Sequential(\n",
        "    [\n",
        "        Dense(128,activation='relu',input_shape=(X_train.shape[1],)),\n",
        "        Dense(64,activation='relu'),\n",
        "        Dense(32,activation='relu'),\n",
        "        Dense(16,activation='relu'),\n",
        "        Dense(1,activation='sigmoid')\n",
        "    ]\n",
        ")"
      ],
      "metadata": {
        "id": "0kQBMHg6RDDs"
      },
      "execution_count": null,
      "outputs": []
    },
    {
      "cell_type": "code",
      "source": [
        "model.compile(optimizer='adam',loss='binary_crossentropy',metrics=['accuracy'])\n",
        "history = model.fit(X_train,y_train,epochs=10,batch_size=32,validation_data=(X_train,y_train))\n",
        "\n",
        "y_pred = (model.predict(X_test) > 0.8).astype('int32')\n",
        "accuracy = accuracy_score(y_test, y_pred)\n",
        "\n",
        "\n",
        "print(f'Accuracy: {accuracy}')\n",
        "print(confusion_matrix(y_test,y_pred))\n",
        "\n",
        "cv_scores=history.history['val_accuracy'] #To get the cross validation accuracy.\n",
        "cv_score_list.append(cv_scores)\n",
        "print(cv_scores)\n"
      ],
      "metadata": {
        "colab": {
          "base_uri": "https://localhost:8080/"
        },
        "id": "6Mc-0pRlRGqn",
        "outputId": "8048e6ea-abd8-4d22-a606-839456a88ac8"
      },
      "execution_count": null,
      "outputs": [
        {
          "output_type": "stream",
          "name": "stdout",
          "text": [
            "Epoch 1/10\n",
            "12/12 [==============================] - 2s 40ms/step - loss: 0.6443 - accuracy: 0.5250 - val_loss: 0.5708 - val_accuracy: 0.7278\n",
            "Epoch 2/10\n",
            "12/12 [==============================] - 0s 15ms/step - loss: 0.5332 - accuracy: 0.8194 - val_loss: 0.4663 - val_accuracy: 0.8528\n",
            "Epoch 3/10\n",
            "12/12 [==============================] - 0s 9ms/step - loss: 0.4273 - accuracy: 0.8750 - val_loss: 0.3537 - val_accuracy: 0.9056\n",
            "Epoch 4/10\n",
            "12/12 [==============================] - 0s 7ms/step - loss: 0.3182 - accuracy: 0.9111 - val_loss: 0.2577 - val_accuracy: 0.9444\n",
            "Epoch 5/10\n",
            "12/12 [==============================] - 0s 11ms/step - loss: 0.2328 - accuracy: 0.9389 - val_loss: 0.1985 - val_accuracy: 0.9583\n",
            "Epoch 6/10\n",
            "12/12 [==============================] - 0s 6ms/step - loss: 0.1745 - accuracy: 0.9556 - val_loss: 0.1448 - val_accuracy: 0.9583\n",
            "Epoch 7/10\n",
            "12/12 [==============================] - 0s 6ms/step - loss: 0.1376 - accuracy: 0.9639 - val_loss: 0.1177 - val_accuracy: 0.9694\n",
            "Epoch 8/10\n",
            "12/12 [==============================] - 0s 7ms/step - loss: 0.1158 - accuracy: 0.9694 - val_loss: 0.1065 - val_accuracy: 0.9667\n",
            "Epoch 9/10\n",
            "12/12 [==============================] - 0s 11ms/step - loss: 0.1014 - accuracy: 0.9722 - val_loss: 0.0875 - val_accuracy: 0.9750\n",
            "Epoch 10/10\n",
            "12/12 [==============================] - 0s 7ms/step - loss: 0.0899 - accuracy: 0.9750 - val_loss: 0.0880 - val_accuracy: 0.9722\n",
            "3/3 [==============================] - 0s 3ms/step\n",
            "Accuracy: 0.9222222222222223\n",
            "[[42  0]\n",
            " [ 7 41]]\n",
            "[0.7277777791023254, 0.8527777791023254, 0.9055555462837219, 0.9444444179534912, 0.9583333134651184, 0.9583333134651184, 0.9694444537162781, 0.9666666388511658, 0.9750000238418579, 0.9722222089767456]\n"
          ]
        }
      ]
    },
    {
      "cell_type": "markdown",
      "source": [
        "Accuracies of the models"
      ],
      "metadata": {
        "id": "7WJsptbrUOEG"
      }
    },
    {
      "cell_type": "code",
      "source": [
        "cv_score_list"
      ],
      "metadata": {
        "id": "0OXILd3PeDq8",
        "outputId": "22c532e7-8480-4f36-95c9-cdb0b49e4fd7",
        "colab": {
          "base_uri": "https://localhost:8080/"
        }
      },
      "execution_count": null,
      "outputs": [
        {
          "output_type": "execute_result",
          "data": {
            "text/plain": [
              "[array([0.94444444, 0.91666667, 0.875     , 0.94444444, 0.91666667]),\n",
              " array([0.94444444, 0.91666667, 0.86111111, 0.93055556, 0.93055556]),\n",
              " array([0.83333333, 0.91666667, 0.80555556, 0.93055556, 0.875     ]),\n",
              " array([0.95833333, 0.93055556, 0.88888889, 0.95833333, 0.93055556]),\n",
              " [0.7277777791023254,\n",
              "  0.8527777791023254,\n",
              "  0.9055555462837219,\n",
              "  0.9444444179534912,\n",
              "  0.9583333134651184,\n",
              "  0.9583333134651184,\n",
              "  0.9694444537162781,\n",
              "  0.9666666388511658,\n",
              "  0.9750000238418579,\n",
              "  0.9722222089767456]]"
            ]
          },
          "metadata": {},
          "execution_count": 188
        }
      ]
    },
    {
      "cell_type": "code",
      "source": [
        "means = [np.mean(scores) for scores in cv_score_list]\n",
        "std_devs = [np.std(scores) for scores in cv_score_list]\n",
        "\n",
        "plt.figure(figsize=(10, 6))\n",
        "\n",
        "plt.errorbar(means, range(len(cv_score_list)), xerr=std_devs, fmt='o', capsize=5, color='orange', ecolor='lightblue', elinewidth=2)\n",
        "\n",
        "plt.yticks(ticks=range(len(cv_score_list)), labels=['Random Forest', 'XG Boost','Decision Tree' , 'SVM', 'Neural Network'])\n",
        "\n",
        "plt.grid(True)\n",
        "plt.title('Mean Cross-Validation Scores with Standard Deviations')\n",
        "plt.ylabel('Model')\n",
        "plt.xlabel('Score')\n",
        "plt.show()"
      ],
      "metadata": {
        "colab": {
          "base_uri": "https://localhost:8080/",
          "height": 564
        },
        "id": "i_jRpoN8Vkwh",
        "outputId": "fd65a77e-a1af-4420-b2a9-a7265c46c091"
      },
      "execution_count": null,
      "outputs": [
        {
          "output_type": "display_data",
          "data": {
            "text/plain": [
              "<Figure size 1000x600 with 1 Axes>"
            ],
            "image/png": "[encoded data removed]"
          },
          "metadata": {}
        }
      ]
    }
  ]
}